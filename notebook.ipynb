{
 "cells": [
  {
   "cell_type": "code",
   "execution_count": 3,
   "metadata": {},
   "outputs": [
    {
     "name": "stdout",
     "output_type": "stream",
     "text": [
      "  % Total    % Received % Xferd  Average Speed   Time    Time     Time  Current\n",
      "                                 Dload  Upload   Total   Spent    Left  Speed\n",
      "100  197M  100  197M    0     0  4361k      0  0:00:46  0:00:46 --:--:-- 4702k\n",
      "curl: (6) Could not resolve host: instacart-market-basket-analysis.zip\n"
     ]
    }
   ],
   "source": [
    "!cd ./data/ && curl https://publicrgsa.blob.core.windows.net/datasets/instacart-market-basket-analysis.zip -O instacart-market-basket-analysis.zip"
   ]
  },
  {
   "cell_type": "code",
   "execution_count": 4,
   "metadata": {},
   "outputs": [
    {
     "name": "stdout",
     "output_type": "stream",
     "text": [
      "Archive:  ./data/instacart-market-basket-analysis.zip\n",
      "  inflating: ./data/order_products__prior.csv  \n",
      "  inflating: ./data/sample_submission.csv  \n",
      "  inflating: ./data/orders.csv       \n",
      "  inflating: ./data/order_products__train.csv  \n",
      "  inflating: ./data/aisles.csv       \n",
      "  inflating: ./data/products.csv     \n",
      "  inflating: ./data/departments.csv  \n"
     ]
    }
   ],
   "source": [
    "!unzip ./data/instacart-market-basket-analysis.zip -d ./data/"
   ]
  }
 ],
 "metadata": {
  "kernelspec": {
   "display_name": "Python 3",
   "language": "python",
   "name": "python3"
  },
  "language_info": {
   "codemirror_mode": {
    "name": "ipython",
    "version": 3
   },
   "file_extension": ".py",
   "mimetype": "text/x-python",
   "name": "python",
   "nbconvert_exporter": "python",
   "pygments_lexer": "ipython3",
   "version": "3.7.11"
  },
  "orig_nbformat": 4
 },
 "nbformat": 4,
 "nbformat_minor": 2
}
